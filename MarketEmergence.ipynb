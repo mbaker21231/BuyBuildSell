{
 "cells": [
  {
   "cell_type": "markdown",
   "metadata": {},
   "source": [
    "# A simple model of market emergence\n",
    "\n",
    "Here the object is to lay out in as simple a form as possible, some basic models of the decision to create, and to subsequently sell, some productive asset. So, consider the following simple (static) setup. \n",
    "\n",
    "1. A bunch of agents appear on an island, and commence building productive assets to ensure a livelihood. The costs of creating $a_i$ units of the asset are $c(a_i,\\overline{a})$. At this point, no agent knows how good of a producer he or she will be. More on this momentarily. Anyways, $\\overline{a}$ is the average level of asset-building effort in the population. One can imagine scenarios where $c_2>0$ or $c_2 <0$. The first happens if there is congestion (as might be the case with enclosure of land, while the second scenario might occur if we were talking about building machinery and agents learned better building techniques from one another.  \n",
    "2. After initial construction, each agent learns his or her productivity parameter, $\\theta_i$. This parameter derives from a commonly known distribution, and allows each agent output of $g(\\theta_i,x_i)$, where $x_i$ is the amount of the asset used in production.  \n",
    "3. Once productivities are known, determine $x_i$, where $x_i=a_i+e_i+d_i$, with $a_i$ being the agent's endowment created in the first period, $e_i$ are assets bought/sold in a market, and $d_i$ are assets created through additional construction. We shall suppose that the costs of additional construction are $c(d_i, \\overline{a}+\\overline{d})$. I'm not sure if this is right, and something more general could be used, but let's see where it gets us. It helps to let $e_i=b_i$ if $e_i$ is greater than zero, and $e_i=s_i$ if $e_i$ is less than zero, so we are distinguishing between bought and sold assets. "
   ]
  },
  {
   "cell_type": "markdown",
   "metadata": {},
   "source": [
    "## Setting up a solution\n",
    "\n",
    "To begin by solving the model, let's first think about what happens in the exchange and settlement period. Since everyone makes initial effort decisions under the same conditions, it is reasonable to suppose that $a_i=\\overline{a}$ and all agents enter the period with the same endowment. \n",
    "\n",
    "So now, we have to think about three things, given realizations of $\\theta$. As a first blush, let's suppose that $\\theta=1+\\delta$ with probability $\\lambda$ (high types), and $\\theta=1-\\delta$ with probability $1-\\lambda$ (low types). Let's also assume that low types do not do any additional asset creation.\n",
    "\n",
    "### Maximization problems:\n",
    "\n",
    "High types have to decide how much land to create and how much to buy. That is, they want to maximize:\n",
    "\n",
    "$$\n",
    "\\pi_h = \\theta_hg(a+b_i+d_i) - pb_i- c(d_i, \\overline{a}+\\lambda\\overline{d}_h)\n",
    "$$\n",
    "\n",
    "Low types want to maximize:\n",
    "\n",
    "$$\n",
    "\\pi_l = \\theta_lg(a-s_i) +ps_i \n",
    "$$\n",
    "\n",
    "High types have first order conditions:\n",
    "\n",
    "$$\n",
    "\\frac{\\partial \\pi_h}{\\partial b_i}= \\theta_hg'(a+b_i+d_i) -p =0\n",
    "$$\n",
    "and\n",
    "$$\n",
    "\\frac{\\partial \\pi_h}{\\partial d_i}= \\theta_hg'(a+b_i+d_i) -c'(d_i, \\overline{a}+\\lambda\\overline{d}_h) =0\n",
    "$$\n",
    "\n",
    "While low types first order conditions are:\n",
    "\n",
    "$$\n",
    "-\\theta_lg'(a-s_i)=p\n",
    "$$\n"
   ]
  },
  {
   "cell_type": "markdown",
   "metadata": {},
   "source": [
    "### Some observations\n",
    "\n",
    "We want to determine $b$, $s$, and $\\overline{d_h}$. \n",
    "\n",
    "From the first-order conditions of the high type, we see that the price of the asset is basically determined by the costs of creating additional units, so, in equilibrium, we have:\n",
    "\n",
    "$$\n",
    "p = c'(\\lambda\\overline{d}, \\overline{a}+\\lambda\\overline{d})\n",
    "$$\n",
    "\n",
    "We also must have (eliminating $p$ from the equations): \n",
    "\n",
    "$$\n",
    "\\theta_hg'(a+b_i+d_i)=\\theta_lg'(a-s_i)\n",
    "$$\n",
    "\n",
    "and market-clearing:\n",
    "\n",
    "$$\n",
    "\\lambda \\overline{b} = (1-\\lambda)\\overline{s}\n",
    "$$\n",
    "\n",
    "So, from here on out, I will use population averages in the conditions. Since we need marginal value equal to price as well:\n",
    "\n",
    "$$\n",
    "\\theta_lg'(a-\\overline{s}) = p\n",
    "$$\n",
    "\n",
    "\n",
    "This is a very strange set of conditions, but let's attack it and see where it goes. Using the equilibrium condition in the equal-marginal-products condition, we get:\n",
    "\n",
    "$$\n",
    "\\theta_hg'(a+\\overline{b}+\\overline{d}) = \\theta_lg'\\left(a-\\frac{\\lambda}{1-\\lambda}\\overline{b}\\right)\n",
    "$$\n",
    "and also:\n",
    "\n",
    "$$\n",
    "\\theta_lg'\\left(a-\\frac{\\lambda}{1-\\lambda}\\overline{b}\\right) = c'(\\lambda\\overline{d},\\overline{a}+\\lambda\\overline{d})\n",
    "$$"
   ]
  },
  {
   "cell_type": "code",
   "execution_count": null,
   "metadata": {
    "collapsed": true
   },
   "outputs": [],
   "source": []
  }
 ],
 "metadata": {
  "kernelspec": {
   "display_name": "Python 3",
   "language": "python",
   "name": "python3"
  },
  "language_info": {
   "codemirror_mode": {
    "name": "ipython",
    "version": 3
   },
   "file_extension": ".py",
   "mimetype": "text/x-python",
   "name": "python",
   "nbconvert_exporter": "python",
   "pygments_lexer": "ipython3",
   "version": "3.4.5"
  }
 },
 "nbformat": 4,
 "nbformat_minor": 2
}
