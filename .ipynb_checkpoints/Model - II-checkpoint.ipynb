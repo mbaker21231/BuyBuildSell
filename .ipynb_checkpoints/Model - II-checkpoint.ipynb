{
 "cells": [
  {
   "cell_type": "markdown",
   "metadata": {},
   "source": [
    "# Simplest possible model \n",
    "\n",
    "Agents produce with one asset: Land, the amount of which we refer to as $t_i$. Agents play the following game in two stages. \n",
    "\n",
    "1. Each agent, before knowing their private productivity, $\\theta_i$, invests in enclosing land. Enclosing $t$ units of land costs $c(t)$. \n",
    "2. Agents' productivities are realized. \n",
    "3. Agents observe their productivities, and then decide on how to acquire land: either via a market transaction or by enclosing a little bit more. \n",
    "\n",
    "## Parameterization\n",
    "\n",
    "Production is given by $\\theta_i \\ln t_i$, where $\\theta$ is either $\\theta_h$ with probability 1/2, or $\\theta_l$, with $\\theta_h>\\theta_l$. \n",
    "\n",
    "Initial costs of enclosing land are $c(t)$, but in the second period, they rise to $c(t)d(T)$, where $T=n\\overline{t}$. \n",
    "\n",
    "## Solution with perfect information\n",
    "\n",
    "In this setting, all agents will make the same decisions initially, because they all have the same information. So, let's think about what will happen subsequently. If an agent is a high type, he or she would like to increase land allotment either by buying land or by enclosing more of it. A low type might like to do the same, but probably for the purpose of selling it. In any event:"
   ]
  },
  {
   "cell_type": "markdown",
   "metadata": {},
   "source": [
    "## Last-period behavior\n",
    "\n",
    "given an initial allotment of $t$ units of land, a high type has returns:\n",
    "\n",
    "$$\n",
    "\\theta_h \\ln(t+b+e)-pb-(c+d(T))e-c(t)\n",
    "$$\n",
    "\n",
    "Maximizing returns results in the following first-order conditions:\n",
    "\n",
    "$$\n",
    "\\frac{\\theta_h}{t+b+e}-p = 0, \\quad \\frac{\\theta_h}{t+b+e}-(c+d(T)) = 0\n",
    "$$\n",
    "\n",
    "It follows that in equilibrium, $p=c+d(T)$. By the same token, low types have the following (anticipating that they will be interested in selling land)\n",
    "\n",
    "$$\n",
    "\\theta_l \\ln(t+e-s)+ps-(c+d(T))e\n",
    "$$\n",
    "\n",
    "Clearly, we have:\n",
    "\n",
    "$$\n",
    "\\frac{\\theta_l}{t+e-s}+p = 0, \\quad \\frac{\\theta_h}{t+e-s}-(c+d(T)) = 0\n",
    "$$\n",
    "\n",
    "The implication is that $e-s = \\frac{\\theta_l}{c+d(T)}-t$, and $b+e = \\frac{\\theta_h}{c+d(T)}-t$. Note that the quantities themselves are indeterminate.\n",
    "\n"
   ]
  },
  {
   "cell_type": "markdown",
   "metadata": {},
   "source": [
    "Plugging this back into the return functions, for a high type, returns are (conditional on best response in the next period):\n",
    "\n",
    "$$\n",
    "\\theta_h \\ln\\left(\\frac{\\theta_h}{c+d(T)}\\right)+t(c+d(T))-\\theta_h+t(c+d(T))\n",
    "$$"
   ]
  },
  {
   "cell_type": "code",
   "execution_count": null,
   "metadata": {
    "collapsed": true
   },
   "outputs": [],
   "source": []
  }
 ],
 "metadata": {
  "kernelspec": {
   "display_name": "Python 3",
   "language": "python",
   "name": "python3"
  },
  "language_info": {
   "codemirror_mode": {
    "name": "ipython",
    "version": 3
   },
   "file_extension": ".py",
   "mimetype": "text/x-python",
   "name": "python",
   "nbconvert_exporter": "python",
   "pygments_lexer": "ipython3",
   "version": "3.4.5"
  }
 },
 "nbformat": 4,
 "nbformat_minor": 2
}
