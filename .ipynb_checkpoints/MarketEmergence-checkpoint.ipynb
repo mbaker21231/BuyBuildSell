{
 "cells": [
  {
   "cell_type": "markdown",
   "metadata": {},
   "source": [
    "# A simple model of market emergence\n",
    "\n",
    "Here the object is to lay out in as simple a form as possible, some basic models of the decision to create, and to subsequently sell, some productive asset. So, consider the following simple (static) setup. \n",
    "\n",
    "1. A bunch of agents appear on an island, and commence building productive assets to ensure a livelihood. The costs of creating $a_i$ units of the asset are $c(a_i,\\overline{a})$. At this point, no agent knows how good of a producer he or she will be. More on this momentarily. Anyways, $\\overline{a}$ is the average level of asset-building effort in the population. One can imagine scenarios where $c_2>0$ or $c_2 <0$. The first happens if there is congestion (as might be the case with enclosure of land, while the second scenario might occur if we were talking about building machinery and agents learned better building techniques from one another.  \n",
    "2. After initial construction, each agent learns his or her productivity parameter, $\\theta_i$. This parameter derives from a commonly known distribution, and allows each agent output of $\\theta_ig(x_i)$, where $x_i$ is the amount of the asset used in production.  \n",
    "3. Once productivities are known, agents determine $x_i$, where $x_i=a_i+e_i+d_i$, with $a_i$ being the agent's endowment created in the first period, $e_i$ are assets bought/sold in a market, and $d_i$ are additional assets created through construction. Consistent with 1), the costs of additional construction are $c(d_i,\\overline{a}+\\overline{d})$. It helps to let $e_i=b_i$ if $e_i$ is greater than zero, and $e_i=s_i$ if $e_i$ is less than zero, so we are distinguishing between bought and sold assets. "
   ]
  },
  {
   "cell_type": "markdown",
   "metadata": {},
   "source": [
    "## Setting up a solution\n",
    "\n",
    "To begin by solving the model, let's first think about what happens in the exchange and settlement period, given what has happenened in the first period. Since everyone makes initial effort decisions under the same conditions, it is reasonable to suppose that $a_i=a$ and all agents enter the period with the same endowment. \n",
    "\n",
    "So now, we have to think about three things, given realizations of $\\theta$.  Suppose that $\\theta=\\theta_h$ with probability $q$ (high types), and $\\theta=\\theta_l$ with probability $1-q$ (low types), with $\\theta_h>\\theta_l$. Let's also assume that low types cannot create additional assets.\n",
    "\n",
    "### Maximization problems:\n",
    "\n",
    "High types have to decide how much land to create and how much to buy. Marking choice variables with $i$, and things that are population averages with un-subscripted letters, these agents want to maximize:\n",
    "\n",
    "$$\n",
    "\\pi_h = \\theta_hg(a+b_i+d_i) - pb_i- c(d_i, a+qd)\n",
    "$$\n",
    "\n",
    "Low types want to maximize:\n",
    "\n",
    "$$\n",
    "\\pi_l = \\theta_lg(a-s_i) +ps_i \n",
    "$$\n",
    "\n",
    "High types have first order conditions:\n",
    "\n",
    "$$\n",
    "\\frac{\\partial \\pi_h}{\\partial b_i}= \\theta_hg'(a+b_i+d_i) -p =0\n",
    "$$\n",
    "and\n",
    "$$\n",
    "\\frac{\\partial \\pi_h}{\\partial d_i}= \\theta_hg'(a+b_i+d_i) -c'(d_i, a+qd) =0\n",
    "$$\n",
    "\n",
    "While low types first order conditions are:\n",
    "\n",
    "$$\n",
    "-\\theta_lg'(a-s_i)=p\n",
    "$$\n"
   ]
  },
  {
   "cell_type": "markdown",
   "metadata": {},
   "source": [
    "### Some observations\n",
    "\n",
    "We want to determine $b$, $s$, and $d$. We begin by setting all choice variables to their population averages. Then, from the first-order conditions of the high type, we see that the price of the asset is basically determined by the costs of creating additional units, so, in equilibrium, we have:\n",
    "\n",
    "$$\n",
    "p = c'(d, a+qd)\n",
    "$$\n",
    "\n",
    "We also must have (eliminating $p$ from the equations): \n",
    "\n",
    "$$\n",
    "\\theta_hg'(a+b+d)=\\theta_lg'(a-s)\n",
    "$$\n",
    "\n",
    "and market-clearing:\n",
    "\n",
    "$$\n",
    "q b = (1-q)s\n",
    "$$\n",
    "\n",
    "So, what we really have is the triple inequality:\n",
    "\n",
    "$$\n",
    "\\theta_hg'(a+b+d) = \\theta_lg'\\left(a-\\frac{q}{1-q}b\\right)= c'(d,a+qd)\n",
    "$$\n",
    "\n",
    "So this is two equations in the two unknowns $b$ and $d$. Once we know these, we get prices and everything else. As a first blush, let's suppose that marginal costs of producing assets are constant in own effort, and increase linearly in assets owned by everyone else. Then, we can reduce the above to:\n",
    "\n",
    "$$\n",
    "\\theta_hg'(a+b+d) = \\theta_lg'\\left(a-\\frac{q}{1-q}b\\right)= c_0+c_1(a+qd)\n",
    "$$\n",
    "\n",
    "Let's also suppose that the production function is given by $ln(x)$. Hence, we now have the triple inequality as:\n",
    "\n",
    "$$\n",
    "\\frac{\\theta_h}{(a+b+d)} = \\frac{\\theta_l}{a-\\frac{q}{1-q}b}= c_0+c_1(a+qd)\n",
    "$$\n",
    "\n",
    "One thing that is interesting is that it appears there is some interesting nonlinearity in this set of equations that is hard to get out...as it should be. Let's try solving for $b$ first:\n"
   ]
  },
  {
   "cell_type": "code",
   "execution_count": 36,
   "metadata": {
    "collapsed": true
   },
   "outputs": [],
   "source": [
    "from sympy import *\n",
    "init_printing()"
   ]
  },
  {
   "cell_type": "code",
   "execution_count": 37,
   "metadata": {
    "collapsed": false
   },
   "outputs": [],
   "source": [
    "a, b, s, d, c_0, c_1, theta_l, theta_h, alpha, q = symbols('a b s d c_0 c_1 theta_l theta_h alpha q')"
   ]
  },
  {
   "cell_type": "code",
   "execution_count": 38,
   "metadata": {
    "collapsed": false
   },
   "outputs": [
    {
     "data": {
      "image/png": "[encoded data removed]",
      "text/latex": [
       "$$\\left [ \\left ( - \\frac{1}{c_{1} q \\left(q \\theta_{h} - q \\theta_{l} + \\theta_{l}\\right)} \\left(q - 1\\right) \\left(a c_{1} q \\left(\\theta_{h} - \\theta_{l}\\right) + \\theta_{l} \\left(a c_{1} - \\sqrt{c_{1} \\left(q \\theta_{h} - q \\theta_{l} + \\theta_{l}\\right)}\\right)\\right), \\quad \\frac{1}{c_{1} q} \\left(- a c_{1} + \\sqrt{c_{1} \\left(q \\theta_{h} - q \\theta_{l} + \\theta_{l}\\right)}\\right)\\right ), \\quad \\left ( - \\frac{1}{c_{1} q \\left(q \\theta_{h} - q \\theta_{l} + \\theta_{l}\\right)} \\left(q - 1\\right) \\left(a c_{1} q \\left(\\theta_{h} - \\theta_{l}\\right) + \\theta_{l} \\left(a c_{1} + \\sqrt{c_{1} \\left(q \\theta_{h} - q \\theta_{l} + \\theta_{l}\\right)}\\right)\\right), \\quad - \\frac{1}{c_{1} q} \\left(a c_{1} + \\sqrt{c_{1} \\left(q \\theta_{h} - q \\theta_{l} + \\theta_{l}\\right)}\\right)\\right )\\right ]$$"
      ],
      "text/plain": [
       "⎡⎛         ⎛                      ⎛         _______________________⎞⎞         \n",
       "⎢⎜-(q - 1)⋅⎝a⋅c₁⋅q⋅(θₕ - θₗ) + θₗ⋅⎝a⋅c₁ - ╲╱ c₁⋅(q⋅θₕ - q⋅θₗ + θₗ) ⎠⎠   -a⋅c₁ \n",
       "⎢⎜────────────────────────────────────────────────────────────────────, ──────\n",
       "⎣⎝                      c₁⋅q⋅(q⋅θₕ - q⋅θₗ + θₗ)                               \n",
       "\n",
       "    _______________________⎞  ⎛         ⎛                      ⎛         _____\n",
       "+ ╲╱ c₁⋅(q⋅θₕ - q⋅θₗ + θₗ) ⎟  ⎜-(q - 1)⋅⎝a⋅c₁⋅q⋅(θₕ - θₗ) + θₗ⋅⎝a⋅c₁ + ╲╱ c₁⋅(\n",
       "───────────────────────────⎟, ⎜───────────────────────────────────────────────\n",
       "         c₁⋅q              ⎠  ⎝                      c₁⋅q⋅(q⋅θₕ - q⋅θₗ + θₗ)  \n",
       "\n",
       "__________________⎞⎞    ⎛         _______________________⎞ ⎞⎤\n",
       "q⋅θₕ - q⋅θₗ + θₗ) ⎠⎠   -⎝a⋅c₁ + ╲╱ c₁⋅(q⋅θₕ - q⋅θₗ + θₗ) ⎠ ⎟⎥\n",
       "─────────────────────, ────────────────────────────────────⎟⎥\n",
       "                                       c₁⋅q                ⎠⎦"
      ]
     },
     "execution_count": 38,
     "metadata": {},
     "output_type": "execute_result"
    }
   ],
   "source": [
    "e1 = theta_h/(a+b+d) - theta_l/(a-q/(1-q)*b)\n",
    "e2 = theta_h/(a+b+d) - ( c_1*(a+q*d))\n",
    "solve([e1,e2], [b,d])"
   ]
  },
  {
   "cell_type": "markdown",
   "metadata": {},
   "source": [
    "Not sure I've learned a lot from this, but it seems worth exploring. Can the model be made simpler?"
   ]
  },
  {
   "cell_type": "code",
   "execution_count": null,
   "metadata": {
    "collapsed": true
   },
   "outputs": [],
   "source": []
  }
 ],
 "metadata": {
  "kernelspec": {
   "display_name": "Python 3",
   "language": "python",
   "name": "python3"
  },
  "language_info": {
   "codemirror_mode": {
    "name": "ipython",
    "version": 3
   },
   "file_extension": ".py",
   "mimetype": "text/x-python",
   "name": "python",
   "nbconvert_exporter": "python",
   "pygments_lexer": "ipython3",
   "version": "3.4.5"
  }
 },
 "nbformat": 4,
 "nbformat_minor": 2
}
