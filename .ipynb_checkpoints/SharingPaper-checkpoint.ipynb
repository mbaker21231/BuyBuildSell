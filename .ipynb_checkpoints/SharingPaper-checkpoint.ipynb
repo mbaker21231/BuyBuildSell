{
 "cells": [
  {
   "cell_type": "markdown",
   "metadata": {},
   "source": [
    "# Sharing paper\n",
    "\n",
    "## First part - a simple 2-person model\n",
    "\n",
    "This model is nice because it can be easily adopted to various other cases. In any event, let's suppose we have two hunters with linear costs that can be either high or low cost producers. \n",
    "\n",
    "Let's actually work it out using the quadratic model and the new assumption that we are using about effort. "
   ]
  },
  {
   "cell_type": "code",
   "execution_count": 1,
   "metadata": {},
   "outputs": [],
   "source": [
    "from sympy import *\n",
    "\n",
    "init_printing()"
   ]
  },
  {
   "cell_type": "code",
   "execution_count": 2,
   "metadata": {},
   "outputs": [],
   "source": [
    "x_1, x_2, c_1, c_2, A = symbols('x_1 x_2 c_1 c_2 A')"
   ]
  },
  {
   "cell_type": "markdown",
   "metadata": {},
   "source": [
    "Aggregate output is basically as follows:"
   ]
  },
  {
   "cell_type": "code",
   "execution_count": 3,
   "metadata": {},
   "outputs": [
    {
     "data": {
      "image/png": "[encoded data removed]",
      "text/latex": [
       "$$- \\frac{c_{1} x_{1}^{2}}{2} - \\frac{c_{2} x_{2}^{2}}{2} + \\left(x_{1} + x_{2}\\right) \\left(A - x_{1} - x_{2}\\right)$$"
      ],
      "text/plain": [
       "       2        2                          \n",
       "  c₁⋅x₁    c₂⋅x₂                           \n",
       "- ────── - ────── + (x₁ + x₂)⋅(A - x₁ - x₂)\n",
       "    2        2                             "
      ]
     },
     "execution_count": 3,
     "metadata": {},
     "output_type": "execute_result"
    }
   ],
   "source": [
    "Agg = (x_1 + x_2)*(A - x_1 - x_2) - c_1*x_1**2 / 2 - c_2*x_2**2 / 2\n",
    "Agg"
   ]
  },
  {
   "cell_type": "code",
   "execution_count": 4,
   "metadata": {},
   "outputs": [
    {
     "data": {
      "image/png": "[encoded data removed]",
      "text/latex": [
       "$$\\left \\{ x_{1} : \\frac{A c_{2}}{c_{1} c_{2} + 2 c_{1} + 2 c_{2}}, \\quad x_{2} : \\frac{A c_{1}}{\\left(c_{1} + 2\\right) \\left(c_{2} + 2\\right) - 4}\\right \\}$$"
      ],
      "text/plain": [
       "⎧            A⋅c₂                      A⋅c₁        ⎫\n",
       "⎨x₁: ───────────────────, x₂: ─────────────────────⎬\n",
       "⎩    c₁⋅c₂ + 2⋅c₁ + 2⋅c₂      (c₁ + 2)⋅(c₂ + 2) - 4⎭"
      ]
     },
     "execution_count": 4,
     "metadata": {},
     "output_type": "execute_result"
    }
   ],
   "source": [
    "f1 = diff(Agg, x_1)\n",
    "f2 = diff(Agg, x_2)\n",
    "\n",
    "solns = solve([f1, f2], [x_1, x_2])\n",
    "solns"
   ]
  },
  {
   "cell_type": "markdown",
   "metadata": {},
   "source": [
    "At the optimum, we have the following result about sharing rules:"
   ]
  },
  {
   "cell_type": "code",
   "execution_count": 5,
   "metadata": {},
   "outputs": [
    {
     "data": {
      "image/png": "[encoded data removed]",
      "text/latex": [
       "$$\\frac{A \\left(c_{1} c_{2} + c_{1} + c_{2}\\right)}{c_{1} c_{2} + 2 c_{1} + 2 c_{2}}$$"
      ],
      "text/plain": [
       "A⋅(c₁⋅c₂ + c₁ + c₂)\n",
       "───────────────────\n",
       "c₁⋅c₂ + 2⋅c₁ + 2⋅c₂"
      ]
     },
     "execution_count": 5,
     "metadata": {},
     "output_type": "execute_result"
    }
   ],
   "source": [
    "Aval = A - x_1 - x_2\n",
    "Asta = Aval.subs(solns).simplify()\n",
    "Asta"
   ]
  },
  {
   "cell_type": "markdown",
   "metadata": {},
   "source": [
    "Based on all of this, we have sharing rules given by:"
   ]
  },
  {
   "cell_type": "code",
   "execution_count": 7,
   "metadata": {},
   "outputs": [
    {
     "data": {
      "image/png": "[encoded data removed]",
      "text/latex": [
       "$$\\left ( \\frac{x_{2} \\left(c_{1} c_{2} + 2 c_{1} + 2 c_{2}\\right)}{A \\left(c_{1} c_{2} + c_{1} + c_{2}\\right)}, \\quad \\frac{x_{1} \\left(c_{1} c_{2} + 2 c_{1} + 2 c_{2}\\right)}{A \\left(c_{1} c_{2} + c_{1} + c_{2}\\right)}\\right )$$"
      ],
      "text/plain": [
       "⎛x₂⋅(c₁⋅c₂ + 2⋅c₁ + 2⋅c₂)  x₁⋅(c₁⋅c₂ + 2⋅c₁ + 2⋅c₂)⎞\n",
       "⎜────────────────────────, ────────────────────────⎟\n",
       "⎝  A⋅(c₁⋅c₂ + c₁ + c₂)       A⋅(c₁⋅c₂ + c₁ + c₂)   ⎠"
      ]
     },
     "execution_count": 7,
     "metadata": {},
     "output_type": "execute_result"
    }
   ],
   "source": [
    "t12 = x_2 / Asta\n",
    "t21 = x_1 / Asta\n",
    "t12, t21"
   ]
  },
  {
   "cell_type": "code",
   "execution_count": 9,
   "metadata": {},
   "outputs": [
    {
     "data": {
      "image/png": "[encoded data removed]",
      "text/latex": [
       "$$\\left ( \\frac{c_{1}}{c_{1} c_{2} + c_{1} + c_{2}}, \\quad \\frac{c_{2}}{c_{1} c_{2} + c_{1} + c_{2}}\\right )$$"
      ],
      "text/plain": [
       "⎛       c₁               c₂      ⎞\n",
       "⎜───────────────, ───────────────⎟\n",
       "⎝c₁⋅c₂ + c₁ + c₂  c₁⋅c₂ + c₁ + c₂⎠"
      ]
     },
     "execution_count": 9,
     "metadata": {},
     "output_type": "execute_result"
    }
   ],
   "source": [
    "t12e = t12.subs(solns).simplify()\n",
    "t21e = t21.subs(solns).simplify()\n",
    "\n",
    "t12e, t21e"
   ]
  },
  {
   "cell_type": "markdown",
   "metadata": {},
   "source": [
    "Keep in mind the decentralized problem, where we have:"
   ]
  },
  {
   "cell_type": "code",
   "execution_count": 17,
   "metadata": {},
   "outputs": [],
   "source": [
    "s_12, s_21 = symbols('s_{12}, s_{21}')\n",
    "\n",
    "r1 = x_1*(A-x_1-x_2)*(1-s_12)+s_21*x_2*(A-x_1-x_2)-c_1*x_1**2/2 \n",
    "r2 = x_2*(A-x_1-x_2)*(1-s_21)+s_12*x_1*(A-x_1-x_2)-c_2*x_2**2/2"
   ]
  },
  {
   "cell_type": "code",
   "execution_count": 20,
   "metadata": {},
   "outputs": [],
   "source": [
    "g1 = diff(r1, x_1)\n",
    "g2 = diff(r2, x_2)"
   ]
  },
  {
   "cell_type": "code",
   "execution_count": 24,
   "metadata": {},
   "outputs": [],
   "source": [
    "solns = solve([g1, g2], [x_1, x_2])"
   ]
  },
  {
   "cell_type": "code",
   "execution_count": 29,
   "metadata": {},
   "outputs": [
    {
     "data": {
      "image/png": "[encoded data removed]",
      "text/latex": [
       "$$\\frac{A c_{2}}{c_{1} c_{2} + 2 c_{1} + 2 c_{2}}$$"
      ],
      "text/plain": [
       "        A⋅c₂       \n",
       "───────────────────\n",
       "c₁⋅c₂ + 2⋅c₁ + 2⋅c₂"
      ]
     },
     "execution_count": 29,
     "metadata": {},
     "output_type": "execute_result"
    }
   ],
   "source": [
    "simplify(solns[x_1].subs({s_12:t12e, s_21:t21e}))"
   ]
  },
  {
   "cell_type": "markdown",
   "metadata": {},
   "source": [
    "restart"
   ]
  },
  {
   "cell_type": "raw",
   "metadata": {},
   "source": []
  },
  {
   "cell_type": "code",
   "execution_count": 33,
   "metadata": {},
   "outputs": [
    {
     "ename": "NameError",
     "evalue": "name 'restart' is not defined",
     "output_type": "error",
     "traceback": [
      "\u001b[1;31m---------------------------------------------------------------------------\u001b[0m",
      "\u001b[1;31mNameError\u001b[0m                                 Traceback (most recent call last)",
      "\u001b[1;32m<ipython-input-33-79055513f147>\u001b[0m in \u001b[0;36m<module>\u001b[1;34m\u001b[0m\n\u001b[1;32m----> 1\u001b[1;33m \u001b[0mrestart\u001b[0m\u001b[1;33m\u001b[0m\u001b[0m\n\u001b[0m",
      "\u001b[1;31mNameError\u001b[0m: name 'restart' is not defined"
     ]
    }
   ],
   "source": [
    "restart"
   ]
  },
  {
   "cell_type": "code",
   "execution_count": null,
   "metadata": {},
   "outputs": [],
   "source": []
  }
 ],
 "metadata": {
  "kernelspec": {
   "display_name": "Python 3",
   "language": "python",
   "name": "python3"
  },
  "language_info": {
   "codemirror_mode": {
    "name": "ipython",
    "version": 3
   },
   "file_extension": ".py",
   "mimetype": "text/x-python",
   "name": "python",
   "nbconvert_exporter": "python",
   "pygments_lexer": "ipython3",
   "version": "3.6.6"
  }
 },
 "nbformat": 4,
 "nbformat_minor": 2
}
